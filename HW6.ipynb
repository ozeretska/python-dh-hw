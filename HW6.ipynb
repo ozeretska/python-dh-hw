{
 "cells": [
  {
   "cell_type": "code",
   "execution_count": 1,
   "metadata": {},
   "outputs": [
    {
     "name": "stdout",
     "output_type": "stream",
     "text": [
      "['аб', 'бр', 'ра', 'ак', 'ка', 'ад', 'да', 'аб', 'бр', 'ра', 'аф', 'фо', 'ок', 'ку', 'ус', 'сп', 'по', 'ок', 'ку', 'ус', 'сд', 'де', 'ес', 'ся', 'ят', 'тк', 'ка', 'аз', 'за', 'ак', 'ку', 'ур', 'рс', 'сн', 'не', 'ем', 'ме', 'ед', 'дл', 'ле', 'ен', 'нн', 'но', 'оп', 'по', 'оя', 'яв', 'ви', 'ис', 'сь']\n"
     ]
    }
   ],
   "source": [
    "text = \"абракадабра фокус покус десятка за курс немедленно появись\"\n",
    "spisok = []\n",
    "text1=[char for char in text if char !=\" \"]\n",
    "text1=\"\".join(text1)\n",
    "for i in range(len(text1)-1):\n",
    "    b=text1[i]+text1[i+1]\n",
    "    spisok.append(b)\n",
    "print(spisok)"
   ]
  },
  {
   "cell_type": "code",
   "execution_count": 2,
   "metadata": {},
   "outputs": [
    {
     "name": "stdout",
     "output_type": "stream",
     "text": [
      "{'аб': 2, 'бр': 2, 'ра': 2, 'ак': 2, 'ка': 2, 'ад': 1, 'да': 1, 'аф': 1, 'фо': 1, 'ок': 2, 'ку': 3, 'ус': 2, 'сп': 1, 'по': 2, 'сд': 1, 'де': 1, 'ес': 1, 'ся': 1, 'ят': 1, 'тк': 1, 'аз': 1, 'за': 1, 'ур': 1, 'рс': 1, 'сн': 1, 'не': 1, 'ем': 1, 'ме': 1, 'ед': 1, 'дл': 1, 'ле': 1, 'ен': 1, 'нн': 1, 'но': 1, 'оп': 1, 'оя': 1, 'яв': 1, 'ви': 1, 'ис': 1, 'сь': 1}\n"
     ]
    }
   ],
   "source": [
    "slovar={}\n",
    "for d in spisok:\n",
    "    if d in slovar:\n",
    "        slovar[d]+=1\n",
    "    else:\n",
    "        slovar[d]=1\n",
    "print(slovar)"
   ]
  },
  {
   "cell_type": "code",
   "execution_count": 3,
   "metadata": {},
   "outputs": [
    {
     "name": "stdout",
     "output_type": "stream",
     "text": [
      "том - мот\n",
      "YES\n"
     ]
    }
   ],
   "source": [
    "slovo = str(input())\n",
    "a = slovo[::-1]\n",
    "if slovo == a:\n",
    "  print(\"YES\")\n",
    "else:\n",
    "  print(\"NO\")"
   ]
  },
  {
   "cell_type": "code",
   "execution_count": 4,
   "metadata": {},
   "outputs": [
    {
     "name": "stdout",
     "output_type": "stream",
     "text": [
      "лопата - грабли\n",
      "NO\n"
     ]
    }
   ],
   "source": [
    "S = input()\n",
    "if S == S[::-1]:\n",
    "    print(\"YES\")\n",
    "else:\n",
    "    print(\"NO\")"
   ]
  }
 ],
 "metadata": {
  "kernelspec": {
   "display_name": "Python 3",
   "language": "python",
   "name": "python3"
  },
  "language_info": {
   "codemirror_mode": {
    "name": "ipython",
    "version": 3
   },
   "file_extension": ".py",
   "mimetype": "text/x-python",
   "name": "python",
   "nbconvert_exporter": "python",
   "pygments_lexer": "ipython3",
   "version": "3.6.5"
  }
 },
 "nbformat": 4,
 "nbformat_minor": 2
}
